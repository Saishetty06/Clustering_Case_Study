{
 "cells": [
  {
   "cell_type": "markdown",
   "metadata": {
    "colab_type": "text",
    "id": "zxi-VF92ymXl"
   },
   "source": [
    "# Clustering Case Study: Customer Segmentation with K-Means -  Tier 3\n",
    "***\n",
    "This case study is based on [this blog post](http://blog.yhat.com/posts/customer-segmentation-using-python.html) by the `yhat` blog. Please feel free to refer to the post for additional information, and solutions.\n",
    "\n",
    "Structure of the mini-project:\n",
    "\n",
    "1. **Sourcing and loading**\n",
    "    * Load the data\n",
    "    * Explore the data\n",
    "\n",
    "\n",
    "2. **Cleaning, transforming and visualizing**\n",
    "    * Data Wrangling: Exercise Set 1\n",
    "        - Creating a matrix with a binary indicator for whether they responded to a given offer\n",
    "        - Ensure that in doing so, NAN values are dealt with appropriately\n",
    "    \n",
    "\n",
    "3. **Modelling** \n",
    "    * K-Means clustering: Exercise Sets 2 and 3\n",
    "        - Choosing K: The Elbow method\n",
    "        - Choosing K: The Silhouette method\n",
    "        - Choosing K: The Gap statistic method\n",
    "    \n",
    "    * Visualizing clusters with PCA: Exercise Sets 4 and 5\n",
    "\n",
    "\n",
    "4. **Conclusions and next steps**\n",
    "    * Conclusions\n",
    "    * Other clustering algorithms (Exercise Set 6)"
   ]
  },
  {
   "cell_type": "code",
   "execution_count": 2,
   "metadata": {
    "colab": {},
    "colab_type": "code",
    "id": "eLGqKM7dymXn"
   },
   "outputs": [],
   "source": [
    "%matplotlib inline\n",
    "import pandas as pd\n",
    "import sklearn\n",
    "import matplotlib.pyplot as plt\n",
    "import seaborn as sns\n",
    "\n",
    "# Setup Seaborn\n",
    "sns.set_style(\"whitegrid\")\n",
    "sns.set_context(\"poster\")"
   ]
  },
  {
   "cell_type": "markdown",
   "metadata": {
    "colab_type": "text",
    "id": "-v84pqrpymXq"
   },
   "source": [
    "## 1. Sourcing and loading\n",
    "### 1a. Load the data\n",
    "The dataset contains information on marketing newsletters/e-mail campaigns (e-mail offers sent to customers) and transaction level data from customers. The transactional data shows which offer customers responded to, and what the customer ended up buying. The data is presented as an Excel workbook containing two worksheets. Each worksheet contains a different dataset."
   ]
  },
  {
   "cell_type": "code",
   "execution_count": 4,
   "metadata": {},
   "outputs": [],
   "source": [
    "# ! pip install openpyxl"
   ]
  },
  {
   "cell_type": "code",
   "execution_count": 3,
   "metadata": {
    "colab": {},
    "colab_type": "code",
    "id": "o6VegVF9ymXr"
   },
   "outputs": [
    {
     "name": "stderr",
     "output_type": "stream",
     "text": [
      "C:\\Users\\sai\\Anaconda3\\envs\\learn\\lib\\site-packages\\openpyxl\\worksheet\\_reader.py:312: UserWarning: Unknown extension is not supported and will be removed\n",
      "  warn(msg)\n"
     ]
    }
   ],
   "source": [
    "df_offers = pd.read_excel(\"H:/Clustering_Case_Study/WineKMC.xlsx\", sheet_name=0)"
   ]
  },
  {
   "cell_type": "markdown",
   "metadata": {
    "colab_type": "text",
    "id": "4ed8ZPwPymXu"
   },
   "source": [
    "### 1b. Explore the data"
   ]
  },
  {
   "cell_type": "code",
   "execution_count": 5,
   "metadata": {
    "colab": {},
    "colab_type": "code",
    "id": "nyFOb6oEymXv"
   },
   "outputs": [
    {
     "data": {
      "text/html": [
       "<div>\n",
       "<style scoped>\n",
       "    .dataframe tbody tr th:only-of-type {\n",
       "        vertical-align: middle;\n",
       "    }\n",
       "\n",
       "    .dataframe tbody tr th {\n",
       "        vertical-align: top;\n",
       "    }\n",
       "\n",
       "    .dataframe thead th {\n",
       "        text-align: right;\n",
       "    }\n",
       "</style>\n",
       "<table border=\"1\" class=\"dataframe\">\n",
       "  <thead>\n",
       "    <tr style=\"text-align: right;\">\n",
       "      <th></th>\n",
       "      <th>offer_id</th>\n",
       "      <th>campaign</th>\n",
       "      <th>varietal</th>\n",
       "      <th>min_qty</th>\n",
       "      <th>discount</th>\n",
       "      <th>origin</th>\n",
       "      <th>past_peak</th>\n",
       "    </tr>\n",
       "  </thead>\n",
       "  <tbody>\n",
       "    <tr>\n",
       "      <th>0</th>\n",
       "      <td>1</td>\n",
       "      <td>January</td>\n",
       "      <td>Malbec</td>\n",
       "      <td>72</td>\n",
       "      <td>56</td>\n",
       "      <td>France</td>\n",
       "      <td>False</td>\n",
       "    </tr>\n",
       "    <tr>\n",
       "      <th>1</th>\n",
       "      <td>2</td>\n",
       "      <td>January</td>\n",
       "      <td>Pinot Noir</td>\n",
       "      <td>72</td>\n",
       "      <td>17</td>\n",
       "      <td>France</td>\n",
       "      <td>False</td>\n",
       "    </tr>\n",
       "    <tr>\n",
       "      <th>2</th>\n",
       "      <td>3</td>\n",
       "      <td>February</td>\n",
       "      <td>Espumante</td>\n",
       "      <td>144</td>\n",
       "      <td>32</td>\n",
       "      <td>Oregon</td>\n",
       "      <td>True</td>\n",
       "    </tr>\n",
       "    <tr>\n",
       "      <th>3</th>\n",
       "      <td>4</td>\n",
       "      <td>February</td>\n",
       "      <td>Champagne</td>\n",
       "      <td>72</td>\n",
       "      <td>48</td>\n",
       "      <td>France</td>\n",
       "      <td>True</td>\n",
       "    </tr>\n",
       "    <tr>\n",
       "      <th>4</th>\n",
       "      <td>5</td>\n",
       "      <td>February</td>\n",
       "      <td>Cabernet Sauvignon</td>\n",
       "      <td>144</td>\n",
       "      <td>44</td>\n",
       "      <td>New Zealand</td>\n",
       "      <td>True</td>\n",
       "    </tr>\n",
       "  </tbody>\n",
       "</table>\n",
       "</div>"
      ],
      "text/plain": [
       "   offer_id  campaign            varietal  min_qty  discount       origin  \\\n",
       "0         1   January              Malbec       72        56       France   \n",
       "1         2   January          Pinot Noir       72        17       France   \n",
       "2         3  February           Espumante      144        32       Oregon   \n",
       "3         4  February           Champagne       72        48       France   \n",
       "4         5  February  Cabernet Sauvignon      144        44  New Zealand   \n",
       "\n",
       "   past_peak  \n",
       "0      False  \n",
       "1      False  \n",
       "2       True  \n",
       "3       True  \n",
       "4       True  "
      ]
     },
     "execution_count": 5,
     "metadata": {},
     "output_type": "execute_result"
    }
   ],
   "source": [
    "df_offers.columns = [\"offer_id\", \"campaign\", \"varietal\", \"min_qty\", \"discount\", \"origin\", \"past_peak\"]\n",
    "df_offers.head()"
   ]
  },
  {
   "cell_type": "markdown",
   "metadata": {
    "colab_type": "text",
    "id": "1OsRt52wymXx"
   },
   "source": [
    "We see that the first dataset contains information about each offer such as the month it is in effect and several attributes about the wine that the offer refers to: the variety, minimum quantity, discount, country of origin and whether or not it is past peak. The second dataset in the second worksheet contains transactional data -- which offer each customer responded to."
   ]
  },
  {
   "cell_type": "code",
   "execution_count": 6,
   "metadata": {
    "colab": {},
    "colab_type": "code",
    "id": "IkYD9ZVOymXy"
   },
   "outputs": [
    {
     "name": "stderr",
     "output_type": "stream",
     "text": [
      "C:\\Users\\sai\\Anaconda3\\envs\\learn\\lib\\site-packages\\openpyxl\\worksheet\\_reader.py:312: UserWarning: Unknown extension is not supported and will be removed\n",
      "  warn(msg)\n"
     ]
    },
    {
     "data": {
      "text/html": [
       "<div>\n",
       "<style scoped>\n",
       "    .dataframe tbody tr th:only-of-type {\n",
       "        vertical-align: middle;\n",
       "    }\n",
       "\n",
       "    .dataframe tbody tr th {\n",
       "        vertical-align: top;\n",
       "    }\n",
       "\n",
       "    .dataframe thead th {\n",
       "        text-align: right;\n",
       "    }\n",
       "</style>\n",
       "<table border=\"1\" class=\"dataframe\">\n",
       "  <thead>\n",
       "    <tr style=\"text-align: right;\">\n",
       "      <th></th>\n",
       "      <th>customer_name</th>\n",
       "      <th>offer_id</th>\n",
       "      <th>n</th>\n",
       "    </tr>\n",
       "  </thead>\n",
       "  <tbody>\n",
       "    <tr>\n",
       "      <th>0</th>\n",
       "      <td>Smith</td>\n",
       "      <td>2</td>\n",
       "      <td>1</td>\n",
       "    </tr>\n",
       "    <tr>\n",
       "      <th>1</th>\n",
       "      <td>Smith</td>\n",
       "      <td>24</td>\n",
       "      <td>1</td>\n",
       "    </tr>\n",
       "    <tr>\n",
       "      <th>2</th>\n",
       "      <td>Johnson</td>\n",
       "      <td>17</td>\n",
       "      <td>1</td>\n",
       "    </tr>\n",
       "    <tr>\n",
       "      <th>3</th>\n",
       "      <td>Johnson</td>\n",
       "      <td>24</td>\n",
       "      <td>1</td>\n",
       "    </tr>\n",
       "    <tr>\n",
       "      <th>4</th>\n",
       "      <td>Johnson</td>\n",
       "      <td>26</td>\n",
       "      <td>1</td>\n",
       "    </tr>\n",
       "  </tbody>\n",
       "</table>\n",
       "</div>"
      ],
      "text/plain": [
       "  customer_name  offer_id  n\n",
       "0         Smith         2  1\n",
       "1         Smith        24  1\n",
       "2       Johnson        17  1\n",
       "3       Johnson        24  1\n",
       "4       Johnson        26  1"
      ]
     },
     "execution_count": 6,
     "metadata": {},
     "output_type": "execute_result"
    }
   ],
   "source": [
    "df_transactions = pd.read_excel(\"./WineKMC.xlsx\", sheet_name=1)\n",
    "df_transactions.columns = [\"customer_name\", \"offer_id\"]\n",
    "df_transactions['n'] = 1\n",
    "df_transactions.head()"
   ]
  },
  {
   "cell_type": "markdown",
   "metadata": {
    "colab_type": "text",
    "id": "Gm55bMGlymX2"
   },
   "source": [
    "## 2. Cleaning, transforming and visualizing\n",
    "### 2a. Data Wrangling"
   ]
  },
  {
   "cell_type": "markdown",
   "metadata": {
    "colab_type": "text",
    "id": "OQ5kUMJOymX3"
   },
   "source": [
    "We're trying to learn more about how our customers behave, so we can use their behavior (whether or not they purchased something based on an offer) as a way to group similar minded customers together. We can then study those groups to look for patterns and trends which can help us formulate future offers.\n",
    "\n",
    "The first thing we need is a way to compare customers. To do this, we're going to create a matrix that contains each customer and a 0/1 indicator for whether or not they responded to a given offer. "
   ]
  },
  {
   "cell_type": "markdown",
   "metadata": {
    "colab_type": "text",
    "id": "ogzDotBpymX3"
   },
   "source": [
    "<div class=\"span5 alert alert-info\">\n",
    "<h3>Checkup Exercise Set I</h3>\n",
    "\n",
    "<p><b>Exercise:</b> Create a data frame where each row has the following columns (Use the pandas [`merge`](http://pandas.pydata.org/pandas-docs/stable/generated/pandas.DataFrame.merge.html) and [`pivot_table`](http://pandas.pydata.org/pandas-docs/stable/generated/pandas.pivot_table.html) functions for this purpose):\n",
    "<ul>\n",
    "<li> customer_name\n",
    "<li> One column for each offer, with a 1 if the customer responded to the offer\n",
    "</ul>\n",
    "<p>Make sure you also deal with any weird values such as `NaN`. Read the documentation to develop your solution.</p>\n",
    "</div>"
   ]
  },
  {
   "cell_type": "code",
   "execution_count": 7,
   "metadata": {
    "colab": {},
    "colab_type": "code",
    "id": "IqC9L98ZymX4",
    "scrolled": true
   },
   "outputs": [
    {
     "data": {
      "text/html": [
       "<div>\n",
       "<style scoped>\n",
       "    .dataframe tbody tr th:only-of-type {\n",
       "        vertical-align: middle;\n",
       "    }\n",
       "\n",
       "    .dataframe tbody tr th {\n",
       "        vertical-align: top;\n",
       "    }\n",
       "\n",
       "    .dataframe thead th {\n",
       "        text-align: right;\n",
       "    }\n",
       "</style>\n",
       "<table border=\"1\" class=\"dataframe\">\n",
       "  <thead>\n",
       "    <tr style=\"text-align: right;\">\n",
       "      <th></th>\n",
       "      <th>offer_id</th>\n",
       "      <th>campaign</th>\n",
       "      <th>varietal</th>\n",
       "      <th>min_qty</th>\n",
       "      <th>discount</th>\n",
       "      <th>origin</th>\n",
       "      <th>past_peak</th>\n",
       "      <th>customer_name</th>\n",
       "      <th>n</th>\n",
       "    </tr>\n",
       "  </thead>\n",
       "  <tbody>\n",
       "    <tr>\n",
       "      <th>0</th>\n",
       "      <td>1</td>\n",
       "      <td>January</td>\n",
       "      <td>Malbec</td>\n",
       "      <td>72</td>\n",
       "      <td>56</td>\n",
       "      <td>France</td>\n",
       "      <td>False</td>\n",
       "      <td>Thomas</td>\n",
       "      <td>1</td>\n",
       "    </tr>\n",
       "    <tr>\n",
       "      <th>1</th>\n",
       "      <td>1</td>\n",
       "      <td>January</td>\n",
       "      <td>Malbec</td>\n",
       "      <td>72</td>\n",
       "      <td>56</td>\n",
       "      <td>France</td>\n",
       "      <td>False</td>\n",
       "      <td>Jackson</td>\n",
       "      <td>1</td>\n",
       "    </tr>\n",
       "    <tr>\n",
       "      <th>2</th>\n",
       "      <td>1</td>\n",
       "      <td>January</td>\n",
       "      <td>Malbec</td>\n",
       "      <td>72</td>\n",
       "      <td>56</td>\n",
       "      <td>France</td>\n",
       "      <td>False</td>\n",
       "      <td>Mitchell</td>\n",
       "      <td>1</td>\n",
       "    </tr>\n",
       "    <tr>\n",
       "      <th>3</th>\n",
       "      <td>1</td>\n",
       "      <td>January</td>\n",
       "      <td>Malbec</td>\n",
       "      <td>72</td>\n",
       "      <td>56</td>\n",
       "      <td>France</td>\n",
       "      <td>False</td>\n",
       "      <td>Peterson</td>\n",
       "      <td>1</td>\n",
       "    </tr>\n",
       "    <tr>\n",
       "      <th>4</th>\n",
       "      <td>1</td>\n",
       "      <td>January</td>\n",
       "      <td>Malbec</td>\n",
       "      <td>72</td>\n",
       "      <td>56</td>\n",
       "      <td>France</td>\n",
       "      <td>False</td>\n",
       "      <td>Wood</td>\n",
       "      <td>1</td>\n",
       "    </tr>\n",
       "  </tbody>\n",
       "</table>\n",
       "</div>"
      ],
      "text/plain": [
       "   offer_id campaign varietal  min_qty  discount  origin  past_peak  \\\n",
       "0         1  January   Malbec       72        56  France      False   \n",
       "1         1  January   Malbec       72        56  France      False   \n",
       "2         1  January   Malbec       72        56  France      False   \n",
       "3         1  January   Malbec       72        56  France      False   \n",
       "4         1  January   Malbec       72        56  France      False   \n",
       "\n",
       "  customer_name  n  \n",
       "0        Thomas  1  \n",
       "1       Jackson  1  \n",
       "2      Mitchell  1  \n",
       "3      Peterson  1  \n",
       "4          Wood  1  "
      ]
     },
     "execution_count": 7,
     "metadata": {},
     "output_type": "execute_result"
    }
   ],
   "source": [
    "#your turn\n",
    "df = pd.merge(df_offers, df_transactions)\n",
    "df.head()"
   ]
  },
  {
   "cell_type": "code",
   "execution_count": 9,
   "metadata": {},
   "outputs": [
    {
     "data": {
      "text/html": [
       "<div>\n",
       "<style scoped>\n",
       "    .dataframe tbody tr th:only-of-type {\n",
       "        vertical-align: middle;\n",
       "    }\n",
       "\n",
       "    .dataframe tbody tr th {\n",
       "        vertical-align: top;\n",
       "    }\n",
       "\n",
       "    .dataframe thead th {\n",
       "        text-align: right;\n",
       "    }\n",
       "</style>\n",
       "<table border=\"1\" class=\"dataframe\">\n",
       "  <thead>\n",
       "    <tr style=\"text-align: right;\">\n",
       "      <th></th>\n",
       "      <th>offer_id</th>\n",
       "      <th>campaign</th>\n",
       "      <th>varietal</th>\n",
       "      <th>min_qty</th>\n",
       "      <th>discount</th>\n",
       "      <th>origin</th>\n",
       "      <th>past_peak</th>\n",
       "      <th>customer_name</th>\n",
       "      <th>n</th>\n",
       "    </tr>\n",
       "  </thead>\n",
       "  <tbody>\n",
       "    <tr>\n",
       "      <th>0</th>\n",
       "      <td>1</td>\n",
       "      <td>January</td>\n",
       "      <td>Malbec</td>\n",
       "      <td>72</td>\n",
       "      <td>56</td>\n",
       "      <td>France</td>\n",
       "      <td>False</td>\n",
       "      <td>Thomas</td>\n",
       "      <td>1</td>\n",
       "    </tr>\n",
       "    <tr>\n",
       "      <th>1</th>\n",
       "      <td>1</td>\n",
       "      <td>January</td>\n",
       "      <td>Malbec</td>\n",
       "      <td>72</td>\n",
       "      <td>56</td>\n",
       "      <td>France</td>\n",
       "      <td>False</td>\n",
       "      <td>Jackson</td>\n",
       "      <td>1</td>\n",
       "    </tr>\n",
       "    <tr>\n",
       "      <th>2</th>\n",
       "      <td>1</td>\n",
       "      <td>January</td>\n",
       "      <td>Malbec</td>\n",
       "      <td>72</td>\n",
       "      <td>56</td>\n",
       "      <td>France</td>\n",
       "      <td>False</td>\n",
       "      <td>Mitchell</td>\n",
       "      <td>1</td>\n",
       "    </tr>\n",
       "    <tr>\n",
       "      <th>3</th>\n",
       "      <td>1</td>\n",
       "      <td>January</td>\n",
       "      <td>Malbec</td>\n",
       "      <td>72</td>\n",
       "      <td>56</td>\n",
       "      <td>France</td>\n",
       "      <td>False</td>\n",
       "      <td>Peterson</td>\n",
       "      <td>1</td>\n",
       "    </tr>\n",
       "    <tr>\n",
       "      <th>4</th>\n",
       "      <td>1</td>\n",
       "      <td>January</td>\n",
       "      <td>Malbec</td>\n",
       "      <td>72</td>\n",
       "      <td>56</td>\n",
       "      <td>France</td>\n",
       "      <td>False</td>\n",
       "      <td>Wood</td>\n",
       "      <td>1</td>\n",
       "    </tr>\n",
       "  </tbody>\n",
       "</table>\n",
       "</div>"
      ],
      "text/plain": [
       "   offer_id campaign varietal  min_qty  discount  origin  past_peak  \\\n",
       "0         1  January   Malbec       72        56  France      False   \n",
       "1         1  January   Malbec       72        56  France      False   \n",
       "2         1  January   Malbec       72        56  France      False   \n",
       "3         1  January   Malbec       72        56  France      False   \n",
       "4         1  January   Malbec       72        56  France      False   \n",
       "\n",
       "  customer_name  n  \n",
       "0        Thomas  1  \n",
       "1       Jackson  1  \n",
       "2      Mitchell  1  \n",
       "3      Peterson  1  \n",
       "4          Wood  1  "
      ]
     },
     "execution_count": 9,
     "metadata": {},
     "output_type": "execute_result"
    }
   ],
   "source": [
    "# another method to merge\n",
    "df_m = df_offers.merge(df_transactions, how='inner', on='offer_id')\n",
    "df_m.head()"
   ]
  },
  {
   "cell_type": "code",
   "execution_count": 15,
   "metadata": {},
   "outputs": [
    {
     "name": "stdout",
     "output_type": "stream",
     "text": [
      "<class 'pandas.core.frame.DataFrame'>\n",
      "Int64Index: 324 entries, 0 to 323\n",
      "Data columns (total 9 columns):\n",
      " #   Column         Non-Null Count  Dtype \n",
      "---  ------         --------------  ----- \n",
      " 0   offer_id       324 non-null    int64 \n",
      " 1   campaign       324 non-null    object\n",
      " 2   varietal       324 non-null    object\n",
      " 3   min_qty        324 non-null    int64 \n",
      " 4   discount       324 non-null    int64 \n",
      " 5   origin         324 non-null    object\n",
      " 6   past_peak      324 non-null    bool  \n",
      " 7   customer_name  324 non-null    object\n",
      " 8   n              324 non-null    int64 \n",
      "dtypes: bool(1), int64(4), object(4)\n",
      "memory usage: 23.1+ KB\n"
     ]
    }
   ],
   "source": [
    "df_m.info()"
   ]
  },
  {
   "cell_type": "code",
   "execution_count": 10,
   "metadata": {},
   "outputs": [
    {
     "data": {
      "text/plain": [
       "offer_id         0\n",
       "campaign         0\n",
       "varietal         0\n",
       "min_qty          0\n",
       "discount         0\n",
       "origin           0\n",
       "past_peak        0\n",
       "customer_name    0\n",
       "n                0\n",
       "dtype: int64"
      ]
     },
     "execution_count": 10,
     "metadata": {},
     "output_type": "execute_result"
    }
   ],
   "source": [
    "# df_m.isnull().values.any()\n",
    "df_m.isnull().sum()#.sum()"
   ]
  },
  {
   "cell_type": "code",
   "execution_count": 11,
   "metadata": {},
   "outputs": [
    {
     "data": {
      "text/html": [
       "<div>\n",
       "<style scoped>\n",
       "    .dataframe tbody tr th:only-of-type {\n",
       "        vertical-align: middle;\n",
       "    }\n",
       "\n",
       "    .dataframe tbody tr th {\n",
       "        vertical-align: top;\n",
       "    }\n",
       "\n",
       "    .dataframe thead th {\n",
       "        text-align: right;\n",
       "    }\n",
       "</style>\n",
       "<table border=\"1\" class=\"dataframe\">\n",
       "  <thead>\n",
       "    <tr style=\"text-align: right;\">\n",
       "      <th>offer_id</th>\n",
       "      <th>customer_name</th>\n",
       "      <th>1</th>\n",
       "      <th>2</th>\n",
       "      <th>3</th>\n",
       "      <th>4</th>\n",
       "      <th>5</th>\n",
       "      <th>6</th>\n",
       "      <th>7</th>\n",
       "      <th>8</th>\n",
       "      <th>9</th>\n",
       "      <th>...</th>\n",
       "      <th>23</th>\n",
       "      <th>24</th>\n",
       "      <th>25</th>\n",
       "      <th>26</th>\n",
       "      <th>27</th>\n",
       "      <th>28</th>\n",
       "      <th>29</th>\n",
       "      <th>30</th>\n",
       "      <th>31</th>\n",
       "      <th>32</th>\n",
       "    </tr>\n",
       "  </thead>\n",
       "  <tbody>\n",
       "    <tr>\n",
       "      <th>0</th>\n",
       "      <td>Adams</td>\n",
       "      <td>0.0</td>\n",
       "      <td>0.0</td>\n",
       "      <td>0.0</td>\n",
       "      <td>0.0</td>\n",
       "      <td>0.0</td>\n",
       "      <td>0.0</td>\n",
       "      <td>0.0</td>\n",
       "      <td>0.0</td>\n",
       "      <td>0.0</td>\n",
       "      <td>...</td>\n",
       "      <td>0.0</td>\n",
       "      <td>0.0</td>\n",
       "      <td>0.0</td>\n",
       "      <td>0.0</td>\n",
       "      <td>0.0</td>\n",
       "      <td>0.0</td>\n",
       "      <td>1.0</td>\n",
       "      <td>1.0</td>\n",
       "      <td>0.0</td>\n",
       "      <td>0.0</td>\n",
       "    </tr>\n",
       "    <tr>\n",
       "      <th>1</th>\n",
       "      <td>Allen</td>\n",
       "      <td>0.0</td>\n",
       "      <td>0.0</td>\n",
       "      <td>0.0</td>\n",
       "      <td>0.0</td>\n",
       "      <td>0.0</td>\n",
       "      <td>0.0</td>\n",
       "      <td>0.0</td>\n",
       "      <td>0.0</td>\n",
       "      <td>1.0</td>\n",
       "      <td>...</td>\n",
       "      <td>0.0</td>\n",
       "      <td>0.0</td>\n",
       "      <td>0.0</td>\n",
       "      <td>0.0</td>\n",
       "      <td>1.0</td>\n",
       "      <td>0.0</td>\n",
       "      <td>0.0</td>\n",
       "      <td>0.0</td>\n",
       "      <td>0.0</td>\n",
       "      <td>0.0</td>\n",
       "    </tr>\n",
       "    <tr>\n",
       "      <th>2</th>\n",
       "      <td>Anderson</td>\n",
       "      <td>0.0</td>\n",
       "      <td>0.0</td>\n",
       "      <td>0.0</td>\n",
       "      <td>0.0</td>\n",
       "      <td>0.0</td>\n",
       "      <td>0.0</td>\n",
       "      <td>0.0</td>\n",
       "      <td>0.0</td>\n",
       "      <td>0.0</td>\n",
       "      <td>...</td>\n",
       "      <td>0.0</td>\n",
       "      <td>1.0</td>\n",
       "      <td>0.0</td>\n",
       "      <td>1.0</td>\n",
       "      <td>0.0</td>\n",
       "      <td>0.0</td>\n",
       "      <td>0.0</td>\n",
       "      <td>0.0</td>\n",
       "      <td>0.0</td>\n",
       "      <td>0.0</td>\n",
       "    </tr>\n",
       "    <tr>\n",
       "      <th>3</th>\n",
       "      <td>Bailey</td>\n",
       "      <td>0.0</td>\n",
       "      <td>0.0</td>\n",
       "      <td>0.0</td>\n",
       "      <td>0.0</td>\n",
       "      <td>0.0</td>\n",
       "      <td>0.0</td>\n",
       "      <td>1.0</td>\n",
       "      <td>0.0</td>\n",
       "      <td>0.0</td>\n",
       "      <td>...</td>\n",
       "      <td>0.0</td>\n",
       "      <td>0.0</td>\n",
       "      <td>0.0</td>\n",
       "      <td>0.0</td>\n",
       "      <td>0.0</td>\n",
       "      <td>0.0</td>\n",
       "      <td>0.0</td>\n",
       "      <td>1.0</td>\n",
       "      <td>0.0</td>\n",
       "      <td>0.0</td>\n",
       "    </tr>\n",
       "    <tr>\n",
       "      <th>4</th>\n",
       "      <td>Baker</td>\n",
       "      <td>0.0</td>\n",
       "      <td>0.0</td>\n",
       "      <td>0.0</td>\n",
       "      <td>0.0</td>\n",
       "      <td>0.0</td>\n",
       "      <td>0.0</td>\n",
       "      <td>1.0</td>\n",
       "      <td>0.0</td>\n",
       "      <td>0.0</td>\n",
       "      <td>...</td>\n",
       "      <td>0.0</td>\n",
       "      <td>0.0</td>\n",
       "      <td>0.0</td>\n",
       "      <td>0.0</td>\n",
       "      <td>0.0</td>\n",
       "      <td>0.0</td>\n",
       "      <td>0.0</td>\n",
       "      <td>0.0</td>\n",
       "      <td>1.0</td>\n",
       "      <td>0.0</td>\n",
       "    </tr>\n",
       "  </tbody>\n",
       "</table>\n",
       "<p>5 rows × 33 columns</p>\n",
       "</div>"
      ],
      "text/plain": [
       "offer_id customer_name    1    2    3    4    5    6    7    8    9  ...   23  \\\n",
       "0                Adams  0.0  0.0  0.0  0.0  0.0  0.0  0.0  0.0  0.0  ...  0.0   \n",
       "1                Allen  0.0  0.0  0.0  0.0  0.0  0.0  0.0  0.0  1.0  ...  0.0   \n",
       "2             Anderson  0.0  0.0  0.0  0.0  0.0  0.0  0.0  0.0  0.0  ...  0.0   \n",
       "3               Bailey  0.0  0.0  0.0  0.0  0.0  0.0  1.0  0.0  0.0  ...  0.0   \n",
       "4                Baker  0.0  0.0  0.0  0.0  0.0  0.0  1.0  0.0  0.0  ...  0.0   \n",
       "\n",
       "offer_id   24   25   26   27   28   29   30   31   32  \n",
       "0         0.0  0.0  0.0  0.0  0.0  1.0  1.0  0.0  0.0  \n",
       "1         0.0  0.0  0.0  1.0  0.0  0.0  0.0  0.0  0.0  \n",
       "2         1.0  0.0  1.0  0.0  0.0  0.0  0.0  0.0  0.0  \n",
       "3         0.0  0.0  0.0  0.0  0.0  0.0  1.0  0.0  0.0  \n",
       "4         0.0  0.0  0.0  0.0  0.0  0.0  0.0  1.0  0.0  \n",
       "\n",
       "[5 rows x 33 columns]"
      ]
     },
     "execution_count": 11,
     "metadata": {},
     "output_type": "execute_result"
    }
   ],
   "source": [
    "table = df_m.pivot_table(values='n', index=['customer_name'],columns=['offer_id'])\n",
    "table=table.fillna(0).reset_index()\n",
    "table.head()"
   ]
  },
  {
   "cell_type": "code",
   "execution_count": 12,
   "metadata": {},
   "outputs": [
    {
     "data": {
      "text/plain": [
       "Index([ 1,  2,  3,  4,  5,  6,  7,  8,  9, 10, 11, 12, 13, 14, 15, 16, 17, 18,\n",
       "       19, 20, 21, 22, 23, 24, 25, 26, 27, 28, 29, 30, 31, 32],\n",
       "      dtype='object', name='offer_id')"
      ]
     },
     "execution_count": 12,
     "metadata": {},
     "output_type": "execute_result"
    }
   ],
   "source": [
    "x_cols = table.columns[1:]\n",
    "x_cols"
   ]
  },
  {
   "cell_type": "code",
   "execution_count": 13,
   "metadata": {},
   "outputs": [
    {
     "data": {
      "text/html": [
       "<div>\n",
       "<style scoped>\n",
       "    .dataframe tbody tr th:only-of-type {\n",
       "        vertical-align: middle;\n",
       "    }\n",
       "\n",
       "    .dataframe tbody tr th {\n",
       "        vertical-align: top;\n",
       "    }\n",
       "\n",
       "    .dataframe thead th {\n",
       "        text-align: right;\n",
       "    }\n",
       "</style>\n",
       "<table border=\"1\" class=\"dataframe\">\n",
       "  <thead>\n",
       "    <tr style=\"text-align: right;\">\n",
       "      <th>offer_id</th>\n",
       "      <th>2</th>\n",
       "      <th>3</th>\n",
       "      <th>4</th>\n",
       "      <th>5</th>\n",
       "      <th>6</th>\n",
       "      <th>7</th>\n",
       "      <th>8</th>\n",
       "      <th>9</th>\n",
       "      <th>10</th>\n",
       "      <th>11</th>\n",
       "      <th>...</th>\n",
       "      <th>21</th>\n",
       "      <th>22</th>\n",
       "      <th>23</th>\n",
       "      <th>24</th>\n",
       "      <th>25</th>\n",
       "      <th>26</th>\n",
       "      <th>27</th>\n",
       "      <th>28</th>\n",
       "      <th>29</th>\n",
       "      <th>30</th>\n",
       "    </tr>\n",
       "  </thead>\n",
       "  <tbody>\n",
       "    <tr>\n",
       "      <th>0</th>\n",
       "      <td>0.0</td>\n",
       "      <td>0.0</td>\n",
       "      <td>0.0</td>\n",
       "      <td>0.0</td>\n",
       "      <td>0.0</td>\n",
       "      <td>0.0</td>\n",
       "      <td>0.0</td>\n",
       "      <td>0.0</td>\n",
       "      <td>0.0</td>\n",
       "      <td>0.0</td>\n",
       "      <td>...</td>\n",
       "      <td>0.0</td>\n",
       "      <td>0.0</td>\n",
       "      <td>0.0</td>\n",
       "      <td>0.0</td>\n",
       "      <td>0.0</td>\n",
       "      <td>0.0</td>\n",
       "      <td>0.0</td>\n",
       "      <td>0.0</td>\n",
       "      <td>1.0</td>\n",
       "      <td>1.0</td>\n",
       "    </tr>\n",
       "    <tr>\n",
       "      <th>1</th>\n",
       "      <td>0.0</td>\n",
       "      <td>0.0</td>\n",
       "      <td>0.0</td>\n",
       "      <td>0.0</td>\n",
       "      <td>0.0</td>\n",
       "      <td>0.0</td>\n",
       "      <td>0.0</td>\n",
       "      <td>1.0</td>\n",
       "      <td>0.0</td>\n",
       "      <td>0.0</td>\n",
       "      <td>...</td>\n",
       "      <td>0.0</td>\n",
       "      <td>0.0</td>\n",
       "      <td>0.0</td>\n",
       "      <td>0.0</td>\n",
       "      <td>0.0</td>\n",
       "      <td>0.0</td>\n",
       "      <td>1.0</td>\n",
       "      <td>0.0</td>\n",
       "      <td>0.0</td>\n",
       "      <td>0.0</td>\n",
       "    </tr>\n",
       "    <tr>\n",
       "      <th>2</th>\n",
       "      <td>0.0</td>\n",
       "      <td>0.0</td>\n",
       "      <td>0.0</td>\n",
       "      <td>0.0</td>\n",
       "      <td>0.0</td>\n",
       "      <td>0.0</td>\n",
       "      <td>0.0</td>\n",
       "      <td>0.0</td>\n",
       "      <td>0.0</td>\n",
       "      <td>0.0</td>\n",
       "      <td>...</td>\n",
       "      <td>0.0</td>\n",
       "      <td>0.0</td>\n",
       "      <td>0.0</td>\n",
       "      <td>1.0</td>\n",
       "      <td>0.0</td>\n",
       "      <td>1.0</td>\n",
       "      <td>0.0</td>\n",
       "      <td>0.0</td>\n",
       "      <td>0.0</td>\n",
       "      <td>0.0</td>\n",
       "    </tr>\n",
       "    <tr>\n",
       "      <th>3</th>\n",
       "      <td>0.0</td>\n",
       "      <td>0.0</td>\n",
       "      <td>0.0</td>\n",
       "      <td>0.0</td>\n",
       "      <td>0.0</td>\n",
       "      <td>1.0</td>\n",
       "      <td>0.0</td>\n",
       "      <td>0.0</td>\n",
       "      <td>0.0</td>\n",
       "      <td>0.0</td>\n",
       "      <td>...</td>\n",
       "      <td>0.0</td>\n",
       "      <td>0.0</td>\n",
       "      <td>0.0</td>\n",
       "      <td>0.0</td>\n",
       "      <td>0.0</td>\n",
       "      <td>0.0</td>\n",
       "      <td>0.0</td>\n",
       "      <td>0.0</td>\n",
       "      <td>0.0</td>\n",
       "      <td>1.0</td>\n",
       "    </tr>\n",
       "    <tr>\n",
       "      <th>4</th>\n",
       "      <td>0.0</td>\n",
       "      <td>0.0</td>\n",
       "      <td>0.0</td>\n",
       "      <td>0.0</td>\n",
       "      <td>0.0</td>\n",
       "      <td>1.0</td>\n",
       "      <td>0.0</td>\n",
       "      <td>0.0</td>\n",
       "      <td>1.0</td>\n",
       "      <td>0.0</td>\n",
       "      <td>...</td>\n",
       "      <td>0.0</td>\n",
       "      <td>0.0</td>\n",
       "      <td>0.0</td>\n",
       "      <td>0.0</td>\n",
       "      <td>0.0</td>\n",
       "      <td>0.0</td>\n",
       "      <td>0.0</td>\n",
       "      <td>0.0</td>\n",
       "      <td>0.0</td>\n",
       "      <td>0.0</td>\n",
       "    </tr>\n",
       "  </tbody>\n",
       "</table>\n",
       "<p>5 rows × 29 columns</p>\n",
       "</div>"
      ],
      "text/plain": [
       "offer_id   2    3    4    5    6    7    8    9    10   11  ...   21   22  \\\n",
       "0         0.0  0.0  0.0  0.0  0.0  0.0  0.0  0.0  0.0  0.0  ...  0.0  0.0   \n",
       "1         0.0  0.0  0.0  0.0  0.0  0.0  0.0  1.0  0.0  0.0  ...  0.0  0.0   \n",
       "2         0.0  0.0  0.0  0.0  0.0  0.0  0.0  0.0  0.0  0.0  ...  0.0  0.0   \n",
       "3         0.0  0.0  0.0  0.0  0.0  1.0  0.0  0.0  0.0  0.0  ...  0.0  0.0   \n",
       "4         0.0  0.0  0.0  0.0  0.0  1.0  0.0  0.0  1.0  0.0  ...  0.0  0.0   \n",
       "\n",
       "offer_id   23   24   25   26   27   28   29   30  \n",
       "0         0.0  0.0  0.0  0.0  0.0  0.0  1.0  1.0  \n",
       "1         0.0  0.0  0.0  0.0  1.0  0.0  0.0  0.0  \n",
       "2         0.0  1.0  0.0  1.0  0.0  0.0  0.0  0.0  \n",
       "3         0.0  0.0  0.0  0.0  0.0  0.0  0.0  1.0  \n",
       "4         0.0  0.0  0.0  0.0  0.0  0.0  0.0  0.0  \n",
       "\n",
       "[5 rows x 29 columns]"
      ]
     },
     "execution_count": 13,
     "metadata": {},
     "output_type": "execute_result"
    }
   ],
   "source": [
    "data=table[table.columns[2:31]]\n",
    "data.head()"
   ]
  },
  {
   "cell_type": "markdown",
   "metadata": {
    "colab_type": "text",
    "id": "_XELvcC-ymX7"
   },
   "source": [
    "# 3. Modelling \n",
    "### 3a. K-Means Clustering\n",
    "\n",
    "Recall that in K-Means Clustering we want to *maximize* the distance between centroids and *minimize* the distance between data points and the respective centroid for the cluster they are in. True evaluation for unsupervised learning would require labeled data; however, we can use a variety of intuitive metrics to try to pick the number of clusters K. We will introduce two methods: the Elbow method, the Silhouette method and the gap statistic."
   ]
  },
  {
   "cell_type": "markdown",
   "metadata": {
    "colab_type": "text",
    "id": "B7lnwb9HymX8"
   },
   "source": [
    "#### 3ai. Choosing K: The Elbow Sum-of-Squares Method\n",
    "\n",
    "The first method looks at the sum-of-squares error in each cluster against $K$. We compute the distance from each data point to the center of the cluster (centroid) to which the data point was assigned. \n",
    "\n",
    "$$SS = \\sum_k \\sum_{x_i \\in C_k} \\sum_{x_j \\in C_k} \\left( x_i - x_j \\right)^2 = \\sum_k \\sum_{x_i \\in C_k} \\left( x_i - \\mu_k \\right)^2$$\n",
    "\n",
    "where $x_i$ is a point, $C_k$ represents cluster $k$ and $\\mu_k$ is the centroid for cluster $k$. We can plot SS vs. $K$ and choose the *elbow point* in the plot as the best value for $K$. The elbow point is the point at which the plot starts descending much more slowly. \n",
    "\n",
    "**Hint:** the Elbow Method is discussed in part 2 of the Harvard Clustering lecture. "
   ]
  },
  {
   "cell_type": "markdown",
   "metadata": {
    "colab_type": "text",
    "id": "o5T4iBfqymX-"
   },
   "source": [
    "<div class=\"span5 alert alert-info\">\n",
    "<h3>Checkup Exercise Set II</h3>\n",
    "\n",
    "<p><b>Exercise:</b></p> \n",
    "<ul>\n",
    "<li> What values of $SS$ do you believe represent better clusterings? Why?\n",
    "<li> Create a numpy matrix `x_cols` with only the columns representing the offers (i.e. the 0/1 colums) \n",
    "<li> Write code that applies the [`KMeans`](http://scikit-learn.org/stable/modules/generated/sklearn.cluster.KMeans.html) clustering method from scikit-learn to this matrix. \n",
    "<li> Construct a plot showing $SS$ for each $K$ and pick $K$ using this plot. For simplicity, test $2 \\le K \\le 10$.\n",
    "<li> Make a bar chart showing the number of points in each cluster for k-means under the best $K$.\n",
    "<li> What challenges did you experience using the Elbow method to pick $K$?\n",
    "</ul>\n",
    "</div>"
   ]
  },
  {
   "cell_type": "code",
   "execution_count": 22,
   "metadata": {
    "colab": {},
    "colab_type": "code",
    "id": "mG_tbcIdymX-"
   },
   "outputs": [],
   "source": [
    "# your turn\n",
    "from sklearn.cluster import KMeans\n",
    "import numpy as np\n",
    "ss={}\n",
    "assignments = {}\n",
    "data=table[table.columns[2:31]]\n",
    "for k in range(2,11):\n",
    "    kmeans = KMeans(n_clusters=k, random_state=0,max_iter=500).fit(data)\n",
    "    a = kmeans.fit_predict(data)\n",
    "    ss[k] = kmeans.inertia_ \n",
    "    assignments[str(k)] = a\n",
    "\n",
    "# kmeans.predict([[0, 0], [12, 3]])\n",
    "\n",
    "# kmeans.cluster_centers_"
   ]
  },
  {
   "cell_type": "code",
   "execution_count": 17,
   "metadata": {},
   "outputs": [
    {
     "data": {
      "image/png": "[encoded data removed]",
      "text/plain": [
       "<Figure size 432x288 with 1 Axes>"
      ]
     },
     "metadata": {},
     "output_type": "display_data"
    }
   ],
   "source": [
    "import matplotlib.pyplot as plt\n",
    "\n",
    "plt.figure()\n",
    "plt.plot(list(ss.keys()), list(ss.values()))\n",
    "plt.xlabel(\"Number of cluster\")\n",
    "plt.ylabel(\"SE\")\n",
    "plt.show()"
   ]
  },
  {
   "cell_type": "code",
   "execution_count": 23,
   "metadata": {},
   "outputs": [
    {
     "data": {
      "image/png": "[encoded data removed]",
      "text/plain": [
       "<Figure size 1080x360 with 1 Axes>"
      ]
     },
     "metadata": {},
     "output_type": "display_data"
    }
   ],
   "source": [
    "#Make a bar chart showing the number of points in each cluster for k-means under the best  𝐾 .\n",
    "best_K = 10\n",
    "assignments_best_K = assignments[str(best_K)]\n",
    "counts = np.bincount(assignments_best_K)\n",
    "\n",
    "# Plot ks vs SS\n",
    "fig = plt.figure(figsize=(15,5))\n",
    "\n",
    "plt.bar(range(best_K), counts, align='center')\n",
    "plt.xlabel('Clusters')\n",
    "plt.ylabel('# of values')\n",
    "plt.show()"
   ]
  },
  {
   "cell_type": "markdown",
   "metadata": {
    "colab_type": "text",
    "id": "OM08MgqiymYB"
   },
   "source": [
    "#### 3aii. Choosing K: The Silhouette Method\n",
    "\n",
    "There exists another method that measures how well each datapoint $x_i$ \"fits\" its assigned cluster *and also* how poorly it fits into other clusters. This is a different way of looking at the same objective. Denote $a_{x_i}$ as the *average* distance from $x_i$ to all other points within its own cluster $k$. The lower the value, the better. On the other hand $b_{x_i}$ is the minimum average distance from $x_i$ to points in a different cluster, minimized over clusters. That is, compute separately for each cluster the average distance from $x_i$ to the points within that cluster, and then take the minimum. The silhouette $s(x_i)$ is defined as\n",
    "\n",
    "$$s(x_i) = \\frac{b_{x_i} - a_{x_i}}{\\max{\\left( a_{x_i}, b_{x_i}\\right)}}$$\n",
    "\n",
    "The silhouette score is computed on *every datapoint in every cluster*. The silhouette score ranges from -1 (a poor clustering) to +1 (a very dense clustering) with 0 denoting the situation where clusters overlap. Some criteria for the silhouette coefficient is provided in the table below."
   ]
  },
  {
   "cell_type": "markdown",
   "metadata": {
    "colab_type": "text",
    "id": "Prh3gX9NymYC"
   },
   "source": [
    "<pre>\n",
    "\n",
    "| Range       | Interpretation                                |\n",
    "|-------------|-----------------------------------------------|\n",
    "| 0.71 - 1.0  | A strong structure has been found.            |\n",
    "| 0.51 - 0.7  | A reasonable structure has been found.        |\n",
    "| 0.26 - 0.5  | The structure is weak and could be artificial.|\n",
    "| < 0.25      | No substantial structure has been found.      |\n",
    "\n",
    "</pre>\n",
    "Source: http://www.stat.berkeley.edu/~spector/s133/Clus.html"
   ]
  },
  {
   "cell_type": "markdown",
   "metadata": {
    "colab_type": "text",
    "id": "LFdwQkQGymYC"
   },
   "source": [
    "**Hint**: Scikit-learn provides a function to compute this for us (phew!) called [`sklearn.metrics.silhouette_score`](http://scikit-learn.org/stable/modules/generated/sklearn.metrics.silhouette_score.html). Take a look at [this article](http://scikit-learn.org/stable/auto_examples/cluster/plot_kmeans_silhouette_analysis.html) on picking $K$ in scikit-learn, as it will help you in the next exercise set."
   ]
  },
  {
   "cell_type": "markdown",
   "metadata": {
    "colab_type": "text",
    "id": "WQ1xRm9fymYD"
   },
   "source": [
    "<div class=\"span5 alert alert-info\">\n",
    "<h3>Checkup Exercise Set III</h3>\n",
    "\n",
    "<p><b>Exercise:</b> Using the documentation for the `silhouette_score` function above, construct a series of silhouette plots like the ones in the article linked above.</p>\n",
    "\n",
    "<p><b>Exercise:</b> Compute the average silhouette score for each $K$ and plot it. What $K$ does the plot suggest we should choose? Does it differ from what we found using the Elbow method?</p>\n",
    "</div>"
   ]
  },
  {
   "cell_type": "code",
   "execution_count": 67,
   "metadata": {
    "colab": {},
    "colab_type": "code",
    "id": "IZXVFtvXymYE"
   },
   "outputs": [
    {
     "name": "stdout",
     "output_type": "stream",
     "text": [
      "For n_clusters = 2, silhouette score is 0.0936118225403059)\n",
      "For n_clusters = 3, silhouette score is 0.13578174599207282)\n",
      "For n_clusters = 4, silhouette score is 0.12558051016255228)\n",
      "For n_clusters = 5, silhouette score is 0.11370107993857446)\n",
      "For n_clusters = 6, silhouette score is 0.12029952322792066)\n",
      "For n_clusters = 7, silhouette score is 0.11633332012046466)\n",
      "For n_clusters = 8, silhouette score is 0.139731754806452)\n",
      "For n_clusters = 9, silhouette score is 0.1244393470727988)\n",
      "For n_clusters = 10, silhouette score is 0.13153403770277444)\n"
     ]
    }
   ],
   "source": [
    "# Your turn.\n",
    "from sklearn.metrics import silhouette_score\n",
    "X = data\n",
    "range_n_clusters = range(2,11)\n",
    "score = []\n",
    "score1 = []\n",
    "\n",
    "for n_clusters in range_n_clusters:\n",
    "    clusterer = KMeans(n_clusters=n_clusters, random_state=10)\n",
    "    preds = clusterer.fit_predict(data)\n",
    "    centers = clusterer.cluster_centers_\n",
    "\n",
    "    score = silhouette_score(data, preds)\n",
    "    score1.append(score)\n",
    "#     avg_silhouette_scores.append(silhouette_avg)\n",
    "    print(\"For n_clusters = {}, silhouette score is {})\".format(n_clusters, score))\n",
    "    \n",
    "    \n",
    "# sklearn.metrics.silhouette_score(X, labels, *, metric='euclidean', sample_size=None, random_state=None, **kwds)"
   ]
  },
  {
   "cell_type": "code",
   "execution_count": 68,
   "metadata": {},
   "outputs": [
    {
     "data": {
      "text/plain": [
       "Text(0, 0.5, 'Average Silhouette Score')"
      ]
     },
     "execution_count": 68,
     "metadata": {},
     "output_type": "execute_result"
    },
    {
     "data": {
      "image/png": "[encoded data removed]",
      "text/plain": [
       "<Figure size 1080x360 with 1 Axes>"
      ]
     },
     "metadata": {},
     "output_type": "display_data"
    }
   ],
   "source": [
    "fig = plt.figure(figsize=(15,5))\n",
    "x=list(range_n_clusters)\n",
    "plt.plot(x, score1)\n",
    "plt.xlabel('number of clusters, k')\n",
    "plt.ylabel(\"Average Silhouette Score\")"
   ]
  },
  {
   "cell_type": "code",
   "execution_count": 69,
   "metadata": {},
   "outputs": [],
   "source": [
    "# !conda install -c districtdatalabs yellowbrick\n",
    "# !pip install yellowbrick\n",
    "# "
   ]
  },
  {
   "cell_type": "code",
   "execution_count": 70,
   "metadata": {},
   "outputs": [
    {
     "data": {
      "image/png": "[encoded data removed]",
      "text/plain": [
       "<Figure size 1080x576 with 10 Axes>"
      ]
     },
     "metadata": {},
     "output_type": "display_data"
    }
   ],
   "source": [
    "# plotting slihouette score \n",
    "from yellowbrick.cluster import SilhouetteVisualizer\n",
    "\n",
    "fig, ax = plt.subplots(5,2, figsize=(15,8))\n",
    "for i in range(2,11):\n",
    "    '''\n",
    "    Create KMeans instance for different number of clusters\n",
    "    '''\n",
    "    km = KMeans(n_clusters=i, init='k-means++', n_init=10, max_iter=100, random_state=42)\n",
    "    q, mod = divmod(i, 2)\n",
    "    '''\n",
    "    Create SilhouetteVisualizer instance with KMeans instance\n",
    "    Fit the visualizer\n",
    "    '''\n",
    "    visualizer = SilhouetteVisualizer(km, colors='yellowbrick', ax=ax[q-1][mod])\n",
    "    visualizer.fit(X)"
   ]
  },
  {
   "cell_type": "markdown",
   "metadata": {
    "colab_type": "text",
    "id": "Rol4xvqzymYH"
   },
   "source": [
    "#### 3aiii.  Choosing $K$: The Gap Statistic\n",
    "\n",
    "There is one last method worth covering for picking $K$, the so-called Gap statistic. The computation for the gap statistic builds on the sum-of-squares established in the Elbow method discussion, and compares it to the sum-of-squares of a \"null distribution,\" that is, a random set of points with no clustering. The estimate for the optimal number of clusters $K$ is the value for which $\\log{SS}$ falls the farthest below that of the reference distribution:\n",
    "\n",
    "$$G_k = E_n^*\\{\\log SS_k\\} - \\log SS_k$$\n",
    "\n",
    "In other words a good clustering yields a much larger difference between the reference distribution and the clustered data. The reference distribution is a Monte Carlo (randomization) procedure that constructs $B$ random distributions of points within the bounding box (limits) of the original data and then applies K-means to this synthetic distribution of data points.. $E_n^*\\{\\log SS_k\\}$ is just the average $SS_k$ over all $B$ replicates. We then compute the standard deviation $\\sigma_{SS}$ of the values of $SS_k$ computed from the $B$ replicates of the reference distribution and compute\n",
    "\n",
    "$$s_k = \\sqrt{1+1/B}\\sigma_{SS}$$\n",
    "\n",
    "Finally, we choose $K=k$ such that $G_k \\geq G_{k+1} - s_{k+1}$."
   ]
  },
  {
   "cell_type": "markdown",
   "metadata": {
    "colab_type": "text",
    "id": "_e6PSKcVymYI"
   },
   "source": [
    "#### Aside: Choosing $K$ when we Have Labels\n",
    "\n",
    "Unsupervised learning expects that we do not have the labels. In some situations, we may wish to cluster data that is labeled. Computing the optimal number of clusters is much easier if we have access to labels. There are several methods available. We will not go into the math or details since it is rare to have access to the labels, but we provide the names and references of these measures.\n",
    "\n",
    "* Adjusted Rand Index\n",
    "* Mutual Information\n",
    "* V-Measure\n",
    "* Fowlkes–Mallows index\n",
    "\n",
    "**Hint:** See [this article](http://scikit-learn.org/stable/modules/clustering.html) for more information about these metrics."
   ]
  },
  {
   "cell_type": "markdown",
   "metadata": {
    "colab_type": "text",
    "id": "eHsqcXTIymYI"
   },
   "source": [
    "### 3b. Visualizing Clusters using PCA\n",
    "\n",
    "How do we visualize clusters? If we only had two features, we could likely plot the data as is. But we have 100 data points each containing 32 features (dimensions). Principal Component Analysis (PCA) will help us reduce the dimensionality of our data from 32 to something lower. For a visualization on the coordinate plane, we will use 2 dimensions. In this exercise, we're going to use it to transform our multi-dimensional dataset into a 2 dimensional dataset.\n",
    "\n",
    "This is only one use of PCA for dimension reduction. We can also use PCA when we want to perform regression but we have a set of highly correlated variables. PCA untangles these correlations into a smaller number of features/predictors all of which are orthogonal (not correlated). PCA is also used to reduce a large set of variables into a much smaller one.\n",
    "\n",
    "**Hint:** PCA was discussed in the previous subunit. If you need help with it, consult [this useful article](https://towardsdatascience.com/a-one-stop-shop-for-principal-component-analysis-5582fb7e0a9c) and [this visual explanation](http://setosa.io/ev/principal-component-analysis/). "
   ]
  },
  {
   "cell_type": "markdown",
   "metadata": {
    "colab_type": "text",
    "id": "O2A8l0xOymYJ"
   },
   "source": [
    "<div class=\"span5 alert alert-info\">\n",
    "<h3>Checkup Exercise Set IV</h3>\n",
    "\n",
    "<p><b>Exercise:</b> Use PCA to plot your clusters:</p>\n",
    "\n",
    "<ul>\n",
    "<li> Use scikit-learn's [`PCA`](http://scikit-learn.org/stable/modules/generated/sklearn.decomposition.PCA.html) function to reduce the dimensionality of your clustering data to 2 components\n",
    "<li> Create a data frame with the following fields:\n",
    "  <ul>\n",
    "  <li> customer name\n",
    "  <li> cluster id the customer belongs to\n",
    "  <li> the two PCA components (label them `x` and `y`)\n",
    "  </ul>\n",
    "<li> Plot a scatterplot of the `x` vs `y` columns\n",
    "<li> Color-code points differently based on cluster ID\n",
    "<li> How do the clusters look? \n",
    "<li> Based on what you see, what seems to be the best value for $K$? Moreover, which method of choosing $K$ seems to have produced the optimal result visually?\n",
    "</ul>\n",
    "\n",
    "<p><b>Exercise:</b> Now look at both the original raw data about the offers and transactions and look at the fitted clusters. Tell a story about the clusters in context of the original data. For example, do the clusters correspond to wine variants or something else interesting?</p>\n",
    "</div>"
   ]
  },
  {
   "cell_type": "code",
   "execution_count": 71,
   "metadata": {
    "colab": {},
    "colab_type": "code",
    "id": "gPLWFI_symYK"
   },
   "outputs": [
    {
     "data": {
      "text/plain": [
       "(100, 29)"
      ]
     },
     "execution_count": 71,
     "metadata": {},
     "output_type": "execute_result"
    }
   ],
   "source": [
    "#your turn\n",
    "data.shape"
   ]
  },
  {
   "cell_type": "code",
   "execution_count": 87,
   "metadata": {},
   "outputs": [],
   "source": [
    "# r=range(2,6)\n",
    "# for i in r:\n",
    "#     pca = sklearn.cluster.KMeans(n_clusters=i)\n",
    "#     # Call a fit_predict() on X \n",
    "#     assigned_cluster_pca['cluster'] = pca.fit_predict(data)\n",
    "#     centers = pca.cluster_centers_\n",
    "#     # We're going to do some PCA here. Call decomposition.PCA on sklearn, and pass n_components=2 as parameter\n",
    "#     pca = PCA(n_components=2)\n",
    "#     pc1, pc2 = zip(*pca.fit_transform(X))\n",
    "#     matrix['x'] = pca.fit_transform(matrix[x_cols])[:,0]\n",
    "#     matrix['y'] = pca.fit_transform(matrix[x_cols])[:,1]\n",
    "\n",
    "# #Drop scatter plot and centers \n",
    "# fig, ax = plt.subplots(figsize=(7, 5))\n",
    "# ax.scatter(pc1, pc2, alpha=0.7, c=assigned_cluster_pca.tolist(), cmap='viridis', s=20)\n",
    "\n",
    "# for i,c in enumerate(centers):\n",
    "#     ax.scatter(c[0], c[1], c='white', s=100, marker='o', edgecolor='k')\n",
    "# len(table)"
   ]
  },
  {
   "cell_type": "code",
   "execution_count": 82,
   "metadata": {},
   "outputs": [
    {
     "data": {
      "image/png": "[encoded data removed]",
      "text/plain": [
       "<Figure size 432x432 with 1 Axes>"
      ]
     },
     "metadata": {},
     "output_type": "display_data"
    },
    {
     "data": {
      "image/png": "[encoded data removed]",
      "text/plain": [
       "<Figure size 432x432 with 1 Axes>"
      ]
     },
     "metadata": {},
     "output_type": "display_data"
    },
    {
     "data": {
      "image/png": "[encoded data removed]",
      "text/plain": [
       "<Figure size 432x432 with 1 Axes>"
      ]
     },
     "metadata": {},
     "output_type": "display_data"
    },
    {
     "data": {
      "image/png": "[encoded data removed]",
      "text/plain": [
       "<Figure size 432x432 with 1 Axes>"
      ]
     },
     "metadata": {},
     "output_type": "display_data"
    }
   ],
   "source": [
    "range_n_clusters = [2,3,4,5 ]\n",
    "sil_score = {}\n",
    "for n_clusters in range_n_clusters:\n",
    "    cluster = KMeans(n_clusters=n_clusters)\n",
    "    table['cluster'] = cluster.fit_predict(X)\n",
    "    labels = cluster.labels_\n",
    "    pca = PCA(n_components=2)\n",
    "    table['x'] = pca.fit_transform(table[x_cols])[:,0]\n",
    "    table['y'] = pca.fit_transform(table[x_cols])[:,1]\n",
    "    # offers_transactions = offers_transactions.reset_index()\n",
    "\n",
    "    customer_clusters = table[['customer_name','cluster', 'x', 'y']]\n",
    "    #customer_clusters.head()\n",
    "\n",
    "\n",
    "\n",
    "    fig, ax1 = plt.subplots(1, 1, figsize=(6,6))\n",
    " \n",
    "    fig.suptitle('Visualizing Customer Segments using PCA ')\n",
    "    fig.subplots_adjust(top=0.85, wspace=0.5)\n",
    "    ax1.set_title('K = %d clusters' % n_clusters)\n",
    "\n",
    "    for i in range(len(table)):\n",
    "  \n",
    "        if labels[i] == 0:\n",
    "            c1 = ax1.scatter(table.loc[i,'x'], table.loc[i,'y'],c='r', marker='.')\n",
    "        if labels[i] == 1:\n",
    "            c2 = ax1.scatter(table.loc[i,'x'], table.loc[i,'y'],c='g', marker='.')\n",
    "        if labels[i] == 2:\n",
    "            c3 = ax1.scatter(table.loc[i,'x'], table.loc[i,'y'],c='b', marker='.')    \n",
    "        if labels[i] == 3:\n",
    "            c4 = ax1.scatter(table.loc[i,'x'], table.loc[i,'y'],c='y', marker='.')          \n",
    "        if labels[i] == 4:\n",
    "            c4 = ax1.scatter(table.loc[i,'x'], table.loc[i,'y'],c='purple',marker='.') "
   ]
  },
  {
   "cell_type": "code",
   "execution_count": 84,
   "metadata": {},
   "outputs": [],
   "source": [
    "# table.head()"
   ]
  },
  {
   "cell_type": "code",
   "execution_count": 75,
   "metadata": {},
   "outputs": [
    {
     "data": {
      "image/png": "[encoded data removed]",
      "text/plain": [
       "<Figure size 504x360 with 1 Axes>"
      ]
     },
     "metadata": {},
     "output_type": "display_data"
    }
   ],
   "source": [
    "from sklearn.decomposition import PCA\n",
    "import matplotlib.colors\n",
    "\n",
    "# So from the figures above we can see that clusters = 3 is the best as we can differentiate between the groups \n",
    "pca = sklearn.cluster.KMeans(n_clusters=3)\n",
    "# Call a fit_predict() on X \n",
    "assigned_cluster_pca = pca.fit_predict(data)\n",
    "centers = pca.cluster_centers_\n",
    "\n",
    "\n",
    "# We're going to do some PCA here. Call decomposition.PCA on sklearn, and pass n_components=2 as parameter\n",
    "pca = PCA(n_components=2)\n",
    "pc1, pc2 = zip(*pca.fit_transform(X))\n",
    "\n",
    "#Drop scatter plot and centers \n",
    "fig, ax = plt.subplots(figsize=(7, 5))\n",
    "ax.scatter(pc1, pc2, alpha=0.7, c=assigned_cluster_pca.tolist(), cmap='viridis', s=20)\n",
    "\n",
    "for i,c in enumerate(centers):\n",
    "    ax.scatter(c[0], c[1], c='white', s=100, marker='o', edgecolor='k')"
   ]
  },
  {
   "cell_type": "markdown",
   "metadata": {
    "colab_type": "text",
    "id": "ip7bNDsDymYM"
   },
   "source": [
    "What we've done is we've taken those columns of 0/1 indicator variables, and we've transformed them into a 2-D dataset. We took one column and arbitrarily called it `x` and then called the other `y`. Now we can throw each point into a scatterplot. We color coded each point based on it's cluster so it's easier to see them."
   ]
  },
  {
   "cell_type": "markdown",
   "metadata": {
    "colab_type": "text",
    "id": "30rRDyjzymYN"
   },
   "source": [
    "<div class=\"span5 alert alert-info\">\n",
    "<h3>Exercise Set V</h3>\n",
    "\n",
    "<p>As we saw earlier, PCA has a lot of other uses. Since we wanted to visualize our data in 2 dimensions, restricted the number of dimensions to 2 in PCA. But what is the true optimal number of dimensions?</p>\n",
    "\n",
    "<p><b>Exercise:</b> Using a new PCA object shown in the next cell, plot the `explained_variance_` field and look for the elbow point, the point where the curve's rate of descent seems to slow sharply. This value is one possible value for the optimal number of dimensions. What is it?</p>\n",
    "</div>"
   ]
  },
  {
   "cell_type": "code",
   "execution_count": 100,
   "metadata": {
    "colab": {},
    "colab_type": "code",
    "id": "GeC4yWmiymYO"
   },
   "outputs": [
    {
     "data": {
      "text/plain": [
       "array([0.39582571, 0.2838869 , 0.18851593, 0.15857476, 0.14624473,\n",
       "       0.13864251, 0.12318472, 0.11192512, 0.09990632, 0.09760232,\n",
       "       0.09365851, 0.08525014, 0.06958774, 0.0683895 , 0.05947233,\n",
       "       0.0556086 , 0.04995591, 0.04286312, 0.04199409, 0.04149328,\n",
       "       0.03624193, 0.03280114, 0.03074355, 0.02749323, 0.02488392,\n",
       "       0.0225614 , 0.01907214, 0.01596453, 0.01290847])"
      ]
     },
     "execution_count": 100,
     "metadata": {},
     "output_type": "execute_result"
    }
   ],
   "source": [
    "#your turn\n",
    "# Initialize a new PCA model with a default number of components.\n",
    "import sklearn.decomposition\n",
    "pca = sklearn.decomposition.PCA()\n",
    "pca.fit(X)\n",
    "\n",
    "# Do the rest on your own :)\n",
    "expl_variance_list = []\n",
    "pca.explained_variance_"
   ]
  },
  {
   "cell_type": "code",
   "execution_count": 103,
   "metadata": {},
   "outputs": [
    {
     "data": {
      "text/plain": [
       "[<matplotlib.lines.Line2D at 0x1c828063f48>]"
      ]
     },
     "execution_count": 103,
     "metadata": {},
     "output_type": "execute_result"
    },
    {
     "data": {
      "image/png": "[encoded data removed]",
      "text/plain": [
       "<Figure size 576x396 with 1 Axes>"
      ]
     },
     "metadata": {},
     "output_type": "display_data"
    }
   ],
   "source": [
    "plt.plot(pca.explained_variance_[0:29])\n",
    "# range(len(features))\n",
    "# range(pca.n_components_)\n"
   ]
  },
  {
   "cell_type": "markdown",
   "metadata": {},
   "source": [
    "From the figure above, we can see from the explained variance method, K=12, is the elbow point, where the curve's rate of descent seems to slow sharply."
   ]
  },
  {
   "cell_type": "markdown",
   "metadata": {
    "colab_type": "text",
    "id": "_a0Q7XtFymYR"
   },
   "source": [
    "## 4. Conclusions and next steps\n",
    "### 4a. Conclusions\n",
    "What can you conclude from your investigations? Make a note, formulate it as clearly as possible, and be prepared to discuss it with your mentor in your next call. "
   ]
  },
  {
   "cell_type": "markdown",
   "metadata": {
    "colab_type": "text",
    "id": "gyu7Drl4ymYR"
   },
   "source": [
    "### 4b. Other clustering algorithms\n",
    "\n",
    "k-means is only one of a ton of clustering algorithms. Below is a brief description of several clustering algorithms, and the table provides references to the other clustering algorithms in scikit-learn. \n",
    "\n",
    "* **Affinity Propagation** does not require the number of clusters $K$ to be known in advance! AP uses a \"message passing\" paradigm to cluster points based on their similarity. \n",
    "\n",
    "* **Spectral Clustering** uses the eigenvalues of a similarity matrix to reduce the dimensionality of the data before clustering in a lower dimensional space. This is tangentially similar to what we did to visualize k-means clusters using PCA. The number of clusters must be known a priori.\n",
    "\n",
    "* **Ward's Method** applies to hierarchical clustering. Hierarchical clustering algorithms take a set of data and successively divide the observations into more and more clusters at each layer of the hierarchy. Ward's method is used to determine when two clusters in the hierarchy should be combined into one. It is basically an extension of hierarchical clustering. Hierarchical clustering is *divisive*, that is, all observations are part of the same cluster at first, and at each successive iteration, the clusters are made smaller and smaller. With hierarchical clustering, a hierarchy is constructed, and there is not really the concept of \"number of clusters.\" The number of clusters simply determines how low or how high in the hierarchy we reference and can be determined empirically or by looking at the [dendogram](https://docs.scipy.org/doc/scipy-0.18.1/reference/generated/scipy.cluster.hierarchy.dendrogram.html).\n",
    "\n",
    "* **Agglomerative Clustering** is similar to hierarchical clustering but but is not divisive, it is *agglomerative*. That is, every observation is placed into its own cluster and at each iteration or level or the hierarchy, observations are merged into fewer and fewer clusters until convergence. Similar to hierarchical clustering, the constructed hierarchy contains all possible numbers of clusters and it is up to the analyst to pick the number by reviewing statistics or the dendogram.\n",
    "\n",
    "* **DBSCAN** is based on point density rather than distance. It groups together points with many nearby neighbors. DBSCAN is one of the most cited algorithms in the literature. It does not require knowing the number of clusters a priori, but does require specifying the neighborhood size."
   ]
  },
  {
   "cell_type": "markdown",
   "metadata": {
    "colab_type": "text",
    "id": "8tRpy3OaymYS"
   },
   "source": [
    "## Clustering Algorithms in Scikit-learn\n",
    "<table border=\"1\">\n",
    "<colgroup>\n",
    "<col width=\"15%\" />\n",
    "<col width=\"16%\" />\n",
    "<col width=\"20%\" />\n",
    "<col width=\"27%\" />\n",
    "<col width=\"22%\" />\n",
    "</colgroup>\n",
    "<thead valign=\"bottom\">\n",
    "<tr><th>Method name</th>\n",
    "<th>Parameters</th>\n",
    "<th>Scalability</th>\n",
    "<th>Use Case</th>\n",
    "<th>Geometry (metric used)</th>\n",
    "</tr>\n",
    "</thead>\n",
    "<tbody valign=\"top\">\n",
    "<tr><td>K-Means</span></a></td>\n",
    "<td>number of clusters</td>\n",
    "<td>Very large<span class=\"pre\">n_samples</span>, medium <span class=\"pre\">n_clusters</span> with\n",
    "MiniBatch code</td>\n",
    "<td>General-purpose, even cluster size, flat geometry, not too many clusters</td>\n",
    "<td>Distances between points</td>\n",
    "</tr>\n",
    "<tr><td>Affinity propagation</td>\n",
    "<td>damping, sample preference</td>\n",
    "<td>Not scalable with n_samples</td>\n",
    "<td>Many clusters, uneven cluster size, non-flat geometry</td>\n",
    "<td>Graph distance (e.g. nearest-neighbor graph)</td>\n",
    "</tr>\n",
    "<tr><td>Mean-shift</td>\n",
    "<td>bandwidth</td>\n",
    "<td>Not scalable with <span class=\"pre\">n_samples</span></td>\n",
    "<td>Many clusters, uneven cluster size, non-flat geometry</td>\n",
    "<td>Distances between points</td>\n",
    "</tr>\n",
    "<tr><td>Spectral clustering</td>\n",
    "<td>number of clusters</td>\n",
    "<td>Medium <span class=\"pre\">n_samples</span>, small <span class=\"pre\">n_clusters</span></td>\n",
    "<td>Few clusters, even cluster size, non-flat geometry</td>\n",
    "<td>Graph distance (e.g. nearest-neighbor graph)</td>\n",
    "</tr>\n",
    "<tr><td>Ward hierarchical clustering</td>\n",
    "<td>number of clusters</td>\n",
    "<td>Large <span class=\"pre\">n_samples</span> and <span class=\"pre\">n_clusters</span></td>\n",
    "<td>Many clusters, possibly connectivity constraints</td>\n",
    "<td>Distances between points</td>\n",
    "</tr>\n",
    "<tr><td>Agglomerative clustering</td>\n",
    "<td>number of clusters, linkage type, distance</td>\n",
    "<td>Large <span class=\"pre\">n_samples</span> and <span class=\"pre\">n_clusters</span></td>\n",
    "<td>Many clusters, possibly connectivity constraints, non Euclidean\n",
    "distances</td>\n",
    "<td>Any pairwise distance</td>\n",
    "</tr>\n",
    "<tr><td>DBSCAN</td>\n",
    "<td>neighborhood size</td>\n",
    "<td>Very large <span class=\"pre\">n_samples</span>, medium <span class=\"pre\">n_clusters</span></td>\n",
    "<td>Non-flat geometry, uneven cluster sizes</td>\n",
    "<td>Distances between nearest points</td>\n",
    "</tr>\n",
    "<tr><td>Gaussian mixtures</td>\n",
    "<td>many</td>\n",
    "<td>Not scalable</td>\n",
    "<td>Flat geometry, good for density estimation</td>\n",
    "<td>Mahalanobis distances to  centers</td>\n",
    "</tr>\n",
    "<tr><td>Birch</td>\n",
    "<td>branching factor, threshold, optional global clusterer.</td>\n",
    "<td>Large <span class=\"pre\">n_clusters</span> and <span class=\"pre\">n_samples</span></td>\n",
    "<td>Large dataset, outlier removal, data reduction.</td>\n",
    "<td>Euclidean distance between points</td>\n",
    "</tr>\n",
    "</tbody>\n",
    "</table>\n",
    "Source: http://scikit-learn.org/stable/modules/clustering.html"
   ]
  },
  {
   "cell_type": "markdown",
   "metadata": {
    "colab_type": "text",
    "id": "-vRkKRGGymYT"
   },
   "source": [
    "<div class=\"span5 alert alert-info\">\n",
    "<h3>Exercise Set VI</h3>\n",
    "\n",
    "<p><b>Exercise:</b> Try clustering using the following algorithms. </p>\n",
    "<ol>\n",
    "<li>Affinity propagation\n",
    "<li>Spectral clustering\n",
    "<li>Agglomerative clustering\n",
    "<li>DBSCAN\n",
    "</ol>\n",
    "<p>How do their results compare? Which performs the best? Tell a story why you think it performs the best.</p>\n",
    "</div>\n"
   ]
  },
  {
   "cell_type": "code",
   "execution_count": 105,
   "metadata": {},
   "outputs": [
    {
     "data": {
      "text/html": [
       "<div>\n",
       "<style scoped>\n",
       "    .dataframe tbody tr th:only-of-type {\n",
       "        vertical-align: middle;\n",
       "    }\n",
       "\n",
       "    .dataframe tbody tr th {\n",
       "        vertical-align: top;\n",
       "    }\n",
       "\n",
       "    .dataframe thead th {\n",
       "        text-align: right;\n",
       "    }\n",
       "</style>\n",
       "<table border=\"1\" class=\"dataframe\">\n",
       "  <thead>\n",
       "    <tr style=\"text-align: right;\">\n",
       "      <th></th>\n",
       "      <th>0</th>\n",
       "      <th>1</th>\n",
       "      <th>2</th>\n",
       "      <th>3</th>\n",
       "      <th>4</th>\n",
       "      <th>5</th>\n",
       "      <th>6</th>\n",
       "      <th>7</th>\n",
       "      <th>8</th>\n",
       "      <th>9</th>\n",
       "      <th>...</th>\n",
       "      <th>19</th>\n",
       "      <th>20</th>\n",
       "      <th>21</th>\n",
       "      <th>22</th>\n",
       "      <th>23</th>\n",
       "      <th>24</th>\n",
       "      <th>25</th>\n",
       "      <th>26</th>\n",
       "      <th>27</th>\n",
       "      <th>28</th>\n",
       "    </tr>\n",
       "  </thead>\n",
       "  <tbody>\n",
       "    <tr>\n",
       "      <th>0</th>\n",
       "      <td>0.984780</td>\n",
       "      <td>0.241133</td>\n",
       "      <td>-0.546158</td>\n",
       "      <td>-0.042364</td>\n",
       "      <td>-0.098467</td>\n",
       "      <td>0.425924</td>\n",
       "      <td>0.398101</td>\n",
       "      <td>-0.455199</td>\n",
       "      <td>-0.251576</td>\n",
       "      <td>0.120390</td>\n",
       "      <td>...</td>\n",
       "      <td>0.074703</td>\n",
       "      <td>-0.058872</td>\n",
       "      <td>-0.212163</td>\n",
       "      <td>-0.087796</td>\n",
       "      <td>0.045183</td>\n",
       "      <td>0.022058</td>\n",
       "      <td>0.088708</td>\n",
       "      <td>0.147053</td>\n",
       "      <td>0.025953</td>\n",
       "      <td>0.094733</td>\n",
       "    </tr>\n",
       "    <tr>\n",
       "      <th>1</th>\n",
       "      <td>-0.342753</td>\n",
       "      <td>-0.114194</td>\n",
       "      <td>-0.069575</td>\n",
       "      <td>-0.544303</td>\n",
       "      <td>0.068457</td>\n",
       "      <td>0.177430</td>\n",
       "      <td>-0.294211</td>\n",
       "      <td>-0.322126</td>\n",
       "      <td>0.757640</td>\n",
       "      <td>0.357699</td>\n",
       "      <td>...</td>\n",
       "      <td>-0.273238</td>\n",
       "      <td>-0.168327</td>\n",
       "      <td>0.109551</td>\n",
       "      <td>-0.161823</td>\n",
       "      <td>0.072856</td>\n",
       "      <td>-0.101895</td>\n",
       "      <td>-0.006847</td>\n",
       "      <td>-0.110442</td>\n",
       "      <td>-0.102542</td>\n",
       "      <td>0.300239</td>\n",
       "    </tr>\n",
       "    <tr>\n",
       "      <th>2</th>\n",
       "      <td>-0.564305</td>\n",
       "      <td>0.936777</td>\n",
       "      <td>0.257080</td>\n",
       "      <td>0.036160</td>\n",
       "      <td>-0.010227</td>\n",
       "      <td>-0.020540</td>\n",
       "      <td>0.243026</td>\n",
       "      <td>0.172626</td>\n",
       "      <td>0.005683</td>\n",
       "      <td>-0.162131</td>\n",
       "      <td>...</td>\n",
       "      <td>0.229806</td>\n",
       "      <td>0.008991</td>\n",
       "      <td>0.187732</td>\n",
       "      <td>0.069611</td>\n",
       "      <td>0.214132</td>\n",
       "      <td>-0.008596</td>\n",
       "      <td>-0.333922</td>\n",
       "      <td>-0.041024</td>\n",
       "      <td>0.317186</td>\n",
       "      <td>0.041870</td>\n",
       "    </tr>\n",
       "    <tr>\n",
       "      <th>3</th>\n",
       "      <td>0.680954</td>\n",
       "      <td>0.036478</td>\n",
       "      <td>-0.058988</td>\n",
       "      <td>0.093069</td>\n",
       "      <td>-0.601261</td>\n",
       "      <td>-0.125516</td>\n",
       "      <td>0.223982</td>\n",
       "      <td>0.089625</td>\n",
       "      <td>0.473565</td>\n",
       "      <td>-0.086288</td>\n",
       "      <td>...</td>\n",
       "      <td>0.193028</td>\n",
       "      <td>-0.019733</td>\n",
       "      <td>0.066854</td>\n",
       "      <td>0.020385</td>\n",
       "      <td>-0.146569</td>\n",
       "      <td>-0.100824</td>\n",
       "      <td>-0.096012</td>\n",
       "      <td>-0.020975</td>\n",
       "      <td>-0.042062</td>\n",
       "      <td>-0.035653</td>\n",
       "    </tr>\n",
       "    <tr>\n",
       "      <th>4</th>\n",
       "      <td>0.223250</td>\n",
       "      <td>-0.132394</td>\n",
       "      <td>0.716472</td>\n",
       "      <td>-0.110610</td>\n",
       "      <td>-0.758294</td>\n",
       "      <td>-0.121044</td>\n",
       "      <td>-0.496048</td>\n",
       "      <td>0.034033</td>\n",
       "      <td>0.014567</td>\n",
       "      <td>-0.152941</td>\n",
       "      <td>...</td>\n",
       "      <td>-0.069786</td>\n",
       "      <td>-0.038182</td>\n",
       "      <td>0.074237</td>\n",
       "      <td>-0.320273</td>\n",
       "      <td>0.283354</td>\n",
       "      <td>0.242125</td>\n",
       "      <td>0.146725</td>\n",
       "      <td>0.199737</td>\n",
       "      <td>0.032072</td>\n",
       "      <td>0.077068</td>\n",
       "    </tr>\n",
       "  </tbody>\n",
       "</table>\n",
       "<p>5 rows × 29 columns</p>\n",
       "</div>"
      ],
      "text/plain": [
       "         0         1         2         3         4         5         6   \\\n",
       "0  0.984780  0.241133 -0.546158 -0.042364 -0.098467  0.425924  0.398101   \n",
       "1 -0.342753 -0.114194 -0.069575 -0.544303  0.068457  0.177430 -0.294211   \n",
       "2 -0.564305  0.936777  0.257080  0.036160 -0.010227 -0.020540  0.243026   \n",
       "3  0.680954  0.036478 -0.058988  0.093069 -0.601261 -0.125516  0.223982   \n",
       "4  0.223250 -0.132394  0.716472 -0.110610 -0.758294 -0.121044 -0.496048   \n",
       "\n",
       "         7         8         9   ...        19        20        21        22  \\\n",
       "0 -0.455199 -0.251576  0.120390  ...  0.074703 -0.058872 -0.212163 -0.087796   \n",
       "1 -0.322126  0.757640  0.357699  ... -0.273238 -0.168327  0.109551 -0.161823   \n",
       "2  0.172626  0.005683 -0.162131  ...  0.229806  0.008991  0.187732  0.069611   \n",
       "3  0.089625  0.473565 -0.086288  ...  0.193028 -0.019733  0.066854  0.020385   \n",
       "4  0.034033  0.014567 -0.152941  ... -0.069786 -0.038182  0.074237 -0.320273   \n",
       "\n",
       "         23        24        25        26        27        28  \n",
       "0  0.045183  0.022058  0.088708  0.147053  0.025953  0.094733  \n",
       "1  0.072856 -0.101895 -0.006847 -0.110442 -0.102542  0.300239  \n",
       "2  0.214132 -0.008596 -0.333922 -0.041024  0.317186  0.041870  \n",
       "3 -0.146569 -0.100824 -0.096012 -0.020975 -0.042062 -0.035653  \n",
       "4  0.283354  0.242125  0.146725  0.199737  0.032072  0.077068  \n",
       "\n",
       "[5 rows x 29 columns]"
      ]
     },
     "execution_count": 105,
     "metadata": {},
     "output_type": "execute_result"
    }
   ],
   "source": [
    "df_pca = pd.DataFrame(pca.transform(data))\n",
    "df_pca.head()"
   ]
  },
  {
   "cell_type": "code",
   "execution_count": 106,
   "metadata": {
    "colab": {},
    "colab_type": "code",
    "id": "LXJB660zymYT"
   },
   "outputs": [
    {
     "data": {
      "image/png": "[encoded data removed]",
      "text/plain": [
       "<Figure size 504x360 with 1 Axes>"
      ]
     },
     "metadata": {},
     "output_type": "display_data"
    }
   ],
   "source": [
    "# Your turn\n",
    "# Affinity propogation\n",
    "from sklearn.cluster import AffinityPropagation\n",
    "\n",
    "clustering = AffinityPropagation(random_state=5).fit(X)\n",
    "AffProp_clustering_labels =  clustering.labels_\n",
    "centers = clustering.cluster_centers_\n",
    "predict_ = clustering.predict(X)\n",
    "\n",
    "#Drop scatter plot and centers \n",
    "fig, ax = plt.subplots(figsize=(7, 5))\n",
    "ax.scatter(df_pca[0],df_pca[1],alpha=0.7,c=AffProp_clustering_labels, cmap='viridis', s=20)\n",
    "\n",
    "for i,c in enumerate(centers):\n",
    "    ax.scatter(c[0], c[1], c='white', s=100, marker='o', edgecolor='k')"
   ]
  },
  {
   "cell_type": "code",
   "execution_count": 108,
   "metadata": {},
   "outputs": [
    {
     "data": {
      "text/plain": [
       "<matplotlib.collections.PathCollection at 0x1c826375548>"
      ]
     },
     "execution_count": 108,
     "metadata": {},
     "output_type": "execute_result"
    },
    {
     "data": {
      "image/png": "[encoded data removed]",
      "text/plain": [
       "<Figure size 504x360 with 1 Axes>"
      ]
     },
     "metadata": {},
     "output_type": "display_data"
    }
   ],
   "source": [
    "# Spectral clustering\n",
    "\n",
    "from sklearn.cluster import SpectralClustering\n",
    "clustering = SpectralClustering(n_clusters=3,\n",
    "                                assign_labels=\"discretize\",\n",
    "                                random_state=0)\n",
    "clustering.fit_predict(X)\n",
    "Spectral_clustering_labels = clustering.labels_\n",
    "\n",
    "#Drop scatter plot\n",
    "fig, ax = plt.subplots(figsize=(7, 5))\n",
    "ax.scatter(df_pca[0],df_pca[1],alpha=0.7,c=Spectral_clustering_labels,cmap='viridis', s=20)"
   ]
  },
  {
   "cell_type": "code",
   "execution_count": 111,
   "metadata": {},
   "outputs": [
    {
     "data": {
      "text/plain": [
       "<matplotlib.collections.PathCollection at 0x1c82637b688>"
      ]
     },
     "execution_count": 111,
     "metadata": {},
     "output_type": "execute_result"
    },
    {
     "data": {
      "image/png": "[encoded data removed]",
      "text/plain": [
       "<Figure size 504x360 with 1 Axes>"
      ]
     },
     "metadata": {},
     "output_type": "display_data"
    }
   ],
   "source": [
    "#Agglomerative clustering\n",
    "from sklearn.cluster import AgglomerativeClustering\n",
    "\n",
    "\n",
    "clustering = AgglomerativeClustering()\n",
    "clustering.fit_predict(X)\n",
    "\n",
    "Agg_labels= clustering.labels_\n",
    "\n",
    "#Drop scatter plot\n",
    "fig, ax = plt.subplots(figsize=(7, 5))\n",
    "ax.scatter(df_pca[0],df_pca[1],alpha=0.7,c=Agg_labels,cmap='viridis', s=20)"
   ]
  },
  {
   "cell_type": "code",
   "execution_count": 109,
   "metadata": {},
   "outputs": [
    {
     "data": {
      "text/plain": [
       "<matplotlib.collections.PathCollection at 0x1c8263e3c88>"
      ]
     },
     "execution_count": 109,
     "metadata": {},
     "output_type": "execute_result"
    },
    {
     "data": {
      "image/png": "[encoded data removed]",
      "text/plain": [
       "<Figure size 504x360 with 1 Axes>"
      ]
     },
     "metadata": {},
     "output_type": "display_data"
    }
   ],
   "source": [
    "#DBSCAN\n",
    "from sklearn.cluster import DBSCAN\n",
    "\n",
    "clustering = DBSCAN(eps=3, min_samples=2)\n",
    "clustering.fit_predict(X)\n",
    "\n",
    "DBSCAN_labels= clustering.labels_\n",
    "\n",
    "#Drop scatter plot\n",
    "fig, ax = plt.subplots(figsize=(7, 5))\n",
    "ax.scatter(df_pca[0],df_pca[1],alpha=0.7,c=DBSCAN_labels,cmap='viridis', s=20)"
   ]
  }
 ],
 "metadata": {
  "anaconda-cloud": {},
  "colab": {
   "name": "Clustering Case Study - Customer Segmentation with K-Means - Tier 3.ipynb",
   "provenance": []
  },
  "kernelspec": {
   "display_name": "Python 3",
   "language": "python",
   "name": "python3"
  },
  "language_info": {
   "codemirror_mode": {
    "name": "ipython",
    "version": 3
   },
   "file_extension": ".py",
   "mimetype": "text/x-python",
   "name": "python",
   "nbconvert_exporter": "python",
   "pygments_lexer": "ipython3",
   "version": "3.7.9"
  }
 },
 "nbformat": 4,
 "nbformat_minor": 4
}
